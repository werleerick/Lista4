{
  "cells": [
    {
      "cell_type": "markdown",
      "id": "39bd65ab",
      "metadata": {
        "id": "39bd65ab"
      },
      "source": [
        "# 📊 Projeto Final – Análise Contábil com Ajuste Econômico\n",
        "\n",
        "Este projeto tem como objetivo integrar análise de dados contábeis de empresas com indicadores econômicos, utilizando Python, Pandas, Ipeadata e Streamlit."
      ]
    },
    {
      "cell_type": "markdown",
      "source": [
        "1) Configure o título na barra do navegador, da página do projeto no Streamlit e descrição inicial do projeto (peso: 1,0)\n",
        "\n",
        "- Título na barra (`page_title`): Lista de Exercícios 4\n",
        "- Título da página (`header`): Projeto Final – Análise Contábil com Ajuste Econômico\n",
        "- Descrição projeto (`write`): Este projeto tem como objetivo integrar análise de dados contábeis de empresas com indicadores econômicos, utilizando Python, Pandas, Ipeadata e Streamlit."
      ],
      "metadata": {
        "id": "2QiZjDWAY4P-"
      },
      "id": "2QiZjDWAY4P-"
    },
    {
      "cell_type": "markdown",
      "source": [
        "2) Importe os dados do arquivo empresas_dados.csv utilizando pandas e apresente todas as linhas da df (peso: 1,0)\n",
        "\n",
        "Dica: Utilize `head(len(df))`"
      ],
      "metadata": {
        "id": "wjR7LflPZh5y"
      },
      "id": "wjR7LflPZh5y"
    },
    {
      "cell_type": "markdown",
      "source": [
        "3) Calcule os indicadores Margem Líquida e ROA e salve como novas coluna da df. Depois apresente os dois indicadores no mesmo gráfico de linhas, agrupado por Ano  (peso: 1,0)\n",
        "\n",
        "- Margem Líquida = Lucro Líquido / Receita Líquida * 100\n",
        "- ROA = Lucro Líquido / Ativo Total *  100"
      ],
      "metadata": {
        "id": "FUs39mUWaJOQ"
      },
      "id": "FUs39mUWaJOQ"
    },
    {
      "cell_type": "markdown",
      "source": [
        "4) Utilize o pacote ipeadatapy e faça busca para encontrar o indicador que traga o IPCA, taxa de variação, em % e anual: (peso: 2,0)\n",
        "\n",
        "- Baixe os dados no período de 2010 a 2024\n",
        "- Altere o nome da coluna \"YEAR\" para \"Ano\"\n",
        "- Altere o nome da coluna \"VALUE ((% a.a.))\" para \"IPCA\"\n",
        "- Apresente a df para checar se tudo deu certo"
      ],
      "metadata": {
        "id": "YB16ebyYeYu4"
      },
      "id": "YB16ebyYeYu4"
    },
    {
      "cell_type": "markdown",
      "source": [
        "5) Combine as duas df (Excel e IPEA) em uma nova df e calcule nova coluna chamada Receita Real (peso: 2,0)\n",
        "\n",
        "- Utilize a função `pd.merge()` para unificar as duas df utiilizando a coluna Ano como conexão (chave primária) entre elas\n",
        "- Crie nova coluna chamada Receita Real que será o resultado da Receita Líquida de cada ano deduzido o IPCA do ano: `Receita Real = Receitta Líquida - ( Receita Líquida * (IPCA/100) )`\n",
        "- Apresente a nova df combinada\n"
      ],
      "metadata": {
        "id": "Ss_REqu9iHlo"
      },
      "id": "Ss_REqu9iHlo"
    },
    {
      "cell_type": "markdown",
      "source": [
        "6) Crie gráfico de linha que apresente as variáveis Receita Líquida e Receita Real ao longo dos anos (no mesmo gráfico) (peso: 1,0)"
      ],
      "metadata": {
        "id": "wQh-eF0yjLKx"
      },
      "id": "wQh-eF0yjLKx"
    },
    {
      "cell_type": "markdown",
      "source": [
        "7) Faça os ajustes necessários e leve este projeto para a web usando GitHub e Streamlit (peso: 2,0)\n",
        "\n",
        "- Caça os ajustes necessários no projeto para ser publicado no Streamlit\n",
        "- Crie novo repositório público no GitHub e leve os arquivos .py e .csv pra lá. Aproveite e crie o arquivo requirements.txt com os pacotes utilizados no projeto\n",
        "- Crie novo projeto no Streamlit e associe ao repositório da lista"
      ],
      "metadata": {
        "id": "d3QYt17vomGr"
      },
      "id": "d3QYt17vomGr"
    }
  ],
  "metadata": {
    "colab": {
      "provenance": []
    },
    "language_info": {
      "name": "python"
    },
    "kernelspec": {
      "name": "python3",
      "display_name": "Python 3"
    }
  },
  "nbformat": 4,
  "nbformat_minor": 5
}